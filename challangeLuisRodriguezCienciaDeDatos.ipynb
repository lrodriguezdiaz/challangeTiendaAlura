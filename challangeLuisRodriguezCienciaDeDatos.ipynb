{
  "nbformat": 4,
  "nbformat_minor": 0,
  "metadata": {
    "colab": {
      "provenance": []
    },
    "kernelspec": {
      "name": "python3",
      "display_name": "Python 3"
    },
    "language_info": {
      "name": "python"
    }
  },
  "cells": [
    {
      "cell_type": "markdown",
      "source": [
        "### Importación de datos\n",
        "\n"
      ],
      "metadata": {
        "id": "RhEdWd9YUR6H"
      }
    },
    {
      "cell_type": "code",
      "execution_count": 32,
      "metadata": {
        "colab": {
          "base_uri": "https://localhost:8080/"
        },
        "id": "T3EvaeQ_INIL",
        "outputId": "528536bd-d95f-4593-8f72-6244f27d485d"
      },
      "outputs": [
        {
          "output_type": "stream",
          "name": "stdout",
          "text": [
            "[ 4.60971  6.25184 10.39972  3.43722 11.24079  4.81333 10.96854  4.142\n",
            "  3.8653   7.89391  5.06889  2.9273   7.12539 10.46314  1.21361 11.54444\n",
            "  4.53389 -4.21528  4.57937]\n"
          ]
        }
      ],
      "source": [
        "import pandas as pd\n",
        "import matplotlib.pyplot as plt\n",
        "\n",
        "\n",
        "url = \"https://raw.githubusercontent.com/alura-es-cursos/challenge1-data-science-latam/refs/heads/main/base-de-datos-challenge1-latam/tienda_1%20.csv\"\n",
        "url2 = \"https://raw.githubusercontent.com/alura-es-cursos/challenge1-data-science-latam/refs/heads/main/base-de-datos-challenge1-latam/tienda_2.csv\"\n",
        "url3 = \"https://raw.githubusercontent.com/alura-es-cursos/challenge1-data-science-latam/refs/heads/main/base-de-datos-challenge1-latam/tienda_3.csv\"\n",
        "url4 = \"https://raw.githubusercontent.com/alura-es-cursos/challenge1-data-science-latam/refs/heads/main/base-de-datos-challenge1-latam/tienda_4.csv\"\n",
        "\n",
        "tienda = pd.read_csv(url)\n",
        "tienda2 = pd.read_csv(url2)\n",
        "tienda3 = pd.read_csv(url3)\n",
        "tienda4 = pd.read_csv(url4)\n",
        "\n",
        "\n",
        "#PRODUCTOS DE CADA TIENDA\n",
        "articulos_tienda = tienda['Categoría del Producto'].unique()\n",
        "articulos_tienda2 = tienda2['Categoría del Producto'].unique()\n",
        "articulos_tienda3 = tienda3['Categoría del Producto'].unique()\n",
        "articulos_tienda4 = tienda4['Categoría del Producto'].unique()\n",
        "\n",
        "#METODOS DE PAGO POR CADA TIENDA\n",
        "mpago_tienda = tienda['Método de pago'].unique()\n",
        "mpago_tienda2 = tienda2['Método de pago'].unique()\n",
        "mpago_tienda3 = tienda3['Método de pago'].unique()\n",
        "mpago_tienda4 = tienda4['Método de pago'].unique()\n",
        "\n",
        "\n",
        "#CATEGORIAS DE LOS PRODUCTOS\n",
        "categorias_tienda = tienda['Categoría del Producto'].unique()\n",
        "categorias_tienda2 = tienda2['Categoría del Producto'].unique()\n",
        "categorias_tienda3 = tienda3['Categoría del Producto'].unique()\n",
        "categorias_tienda4 = tienda4['Categoría del Producto'].unique()\n",
        "\n",
        "coordenadas_tienda = tienda['lat'].unique()\n",
        "print(coordenadas_tienda)\n"
      ]
    },
    {
      "cell_type": "markdown",
      "source": [
        "#1. Análisis de facturación\n",
        "\n"
      ],
      "metadata": {
        "id": "X62IW3KFUIYm"
      }
    },
    {
      "cell_type": "code",
      "source": [
        "tienda.info()\n",
        "tienda2.info()\n",
        "tienda3.info()\n",
        "tienda4.info()\n"
      ],
      "metadata": {
        "id": "xykobSftV64I",
        "colab": {
          "base_uri": "https://localhost:8080/"
        },
        "outputId": "f00d55f3-66f0-4fad-89e5-419c0d1b2d3c"
      },
      "execution_count": 26,
      "outputs": [
        {
          "output_type": "stream",
          "name": "stdout",
          "text": [
            "<class 'pandas.core.frame.DataFrame'>\n",
            "RangeIndex: 2359 entries, 0 to 2358\n",
            "Data columns (total 12 columns):\n",
            " #   Column                  Non-Null Count  Dtype  \n",
            "---  ------                  --------------  -----  \n",
            " 0   Producto                2359 non-null   object \n",
            " 1   Categoría del Producto  2359 non-null   object \n",
            " 2   Precio                  2359 non-null   float64\n",
            " 3   Costo de envío          2359 non-null   float64\n",
            " 4   Fecha de Compra         2359 non-null   object \n",
            " 5   Vendedor                2359 non-null   object \n",
            " 6   Lugar de Compra         2359 non-null   object \n",
            " 7   Calificación            2359 non-null   int64  \n",
            " 8   Método de pago          2359 non-null   object \n",
            " 9   Cantidad de cuotas      2359 non-null   int64  \n",
            " 10  lat                     2359 non-null   float64\n",
            " 11  lon                     2359 non-null   float64\n",
            "dtypes: float64(4), int64(2), object(6)\n",
            "memory usage: 221.3+ KB\n",
            "<class 'pandas.core.frame.DataFrame'>\n",
            "RangeIndex: 2359 entries, 0 to 2358\n",
            "Data columns (total 12 columns):\n",
            " #   Column                  Non-Null Count  Dtype  \n",
            "---  ------                  --------------  -----  \n",
            " 0   Producto                2359 non-null   object \n",
            " 1   Categoría del Producto  2359 non-null   object \n",
            " 2   Precio                  2359 non-null   float64\n",
            " 3   Costo de envío          2359 non-null   float64\n",
            " 4   Fecha de Compra         2359 non-null   object \n",
            " 5   Vendedor                2359 non-null   object \n",
            " 6   Lugar de Compra         2359 non-null   object \n",
            " 7   Calificación            2359 non-null   int64  \n",
            " 8   Método de pago          2359 non-null   object \n",
            " 9   Cantidad de cuotas      2359 non-null   int64  \n",
            " 10  lat                     2359 non-null   float64\n",
            " 11  lon                     2359 non-null   float64\n",
            "dtypes: float64(4), int64(2), object(6)\n",
            "memory usage: 221.3+ KB\n",
            "<class 'pandas.core.frame.DataFrame'>\n",
            "RangeIndex: 2359 entries, 0 to 2358\n",
            "Data columns (total 12 columns):\n",
            " #   Column                  Non-Null Count  Dtype  \n",
            "---  ------                  --------------  -----  \n",
            " 0   Producto                2359 non-null   object \n",
            " 1   Categoría del Producto  2359 non-null   object \n",
            " 2   Precio                  2359 non-null   float64\n",
            " 3   Costo de envío          2359 non-null   float64\n",
            " 4   Fecha de Compra         2359 non-null   object \n",
            " 5   Vendedor                2359 non-null   object \n",
            " 6   Lugar de Compra         2359 non-null   object \n",
            " 7   Calificación            2359 non-null   int64  \n",
            " 8   Método de pago          2359 non-null   object \n",
            " 9   Cantidad de cuotas      2359 non-null   int64  \n",
            " 10  lat                     2359 non-null   float64\n",
            " 11  lon                     2359 non-null   float64\n",
            "dtypes: float64(4), int64(2), object(6)\n",
            "memory usage: 221.3+ KB\n",
            "<class 'pandas.core.frame.DataFrame'>\n",
            "RangeIndex: 2358 entries, 0 to 2357\n",
            "Data columns (total 12 columns):\n",
            " #   Column                  Non-Null Count  Dtype  \n",
            "---  ------                  --------------  -----  \n",
            " 0   Producto                2358 non-null   object \n",
            " 1   Categoría del Producto  2358 non-null   object \n",
            " 2   Precio                  2358 non-null   float64\n",
            " 3   Costo de envío          2358 non-null   float64\n",
            " 4   Fecha de Compra         2358 non-null   object \n",
            " 5   Vendedor                2358 non-null   object \n",
            " 6   Lugar de Compra         2358 non-null   object \n",
            " 7   Calificación            2358 non-null   int64  \n",
            " 8   Método de pago          2358 non-null   object \n",
            " 9   Cantidad de cuotas      2358 non-null   int64  \n",
            " 10  lat                     2358 non-null   float64\n",
            " 11  lon                     2358 non-null   float64\n",
            "dtypes: float64(4), int64(2), object(6)\n",
            "memory usage: 221.2+ KB\n"
          ]
        }
      ]
    },
    {
      "cell_type": "markdown",
      "source": [
        "### ***Facturacion Total por tienda***"
      ],
      "metadata": {
        "id": "K1jXYkkxOdIi"
      }
    },
    {
      "cell_type": "code",
      "source": [
        "#Calculo de ventas por tienda\n",
        "ventas = []\n",
        "totalTienda  = tienda['Precio'].sum()\n",
        "totalTienda2 = tienda2['Precio'].sum()\n",
        "totalTienda3 = tienda3['Precio'].sum()\n",
        "totalTienda4 = tienda4['Precio'].sum()\n",
        "\n",
        "ventas.append(totalTienda)\n",
        "ventas.append(totalTienda2)\n",
        "ventas.append(totalTienda3)\n",
        "ventas.append(totalTienda4)\n",
        "\n",
        "#Venta Total\n",
        "ventaTotal = [totalTienda,totalTienda2,totalTienda3,totalTienda4]\n",
        "print(ventaTotal)\n",
        "\n",
        "print(f\"Total venta TIENDA  : {totalTienda:,.2f}\")\n",
        "print(f\"Total venta TIENDA2 : {totalTienda2:,.2f}\")\n",
        "print(f\"Total venta TIENDA3 : {totalTienda3:,.2f}\")\n",
        "print(f\"Total venta TIENDA4 : {totalTienda4:,.2f}\")\n",
        "print()\n",
        "print(f\"Total venta TOTAL   : {totalTienda+totalTienda2+totalTienda3+totalTienda4:,.2f}\")\n",
        "print()\n",
        "print()\n",
        "print(f\"Tienda con mayor venta : {max(ventas)}\")\n",
        "print(f\"Tienda con menor venta : {min(ventas)}\")\n",
        "\n",
        "#Preparacion de datos para generar una grafica de ventas por Tienda\n",
        "dg = {'Tiendas': ['Tienda', 'Tienda 2', 'Tienda 3', 'Tienda 4'],\n",
        "             'Venta': [int(totalTienda), int(totalTienda2), int(totalTienda3), int(totalTienda4)]}\n",
        "\n",
        "\n",
        "#DataFrame para realizar la Grafica\n",
        "datagraph = pd.DataFrame(dg)\n",
        "\n",
        "datagraph.plot(x='Tiendas',y='Venta', kind='bar')\n",
        "\n",
        "plt.title('Ventas por Tienda')\n",
        "plt.xlabel('Tiendas')\n",
        "plt.ylabel('Ventas')\n",
        "plt.show()\n"
      ],
      "metadata": {
        "id": "A34YupIuYhfF",
        "colab": {
          "base_uri": "https://localhost:8080/",
          "height": 729
        },
        "outputId": "bb33464d-e8ec-4951-9f71-4cfa1bf9ead4"
      },
      "execution_count": 33,
      "outputs": [
        {
          "output_type": "stream",
          "name": "stdout",
          "text": [
            "[np.float64(1150880400.0), np.float64(1116343500.0), np.float64(1098019600.0), np.float64(1038375700.0)]\n",
            "Total venta TIENDA  : 1,150,880,400.00\n",
            "Total venta TIENDA2 : 1,116,343,500.00\n",
            "Total venta TIENDA3 : 1,098,019,600.00\n",
            "Total venta TIENDA4 : 1,038,375,700.00\n",
            "\n",
            "Total venta TOTAL   : 4,403,619,200.00\n",
            "\n",
            "\n",
            "Tienda con mayor venta : 1150880400.0\n",
            "Tienda con menor venta : 1038375700.0\n"
          ]
        },
        {
          "output_type": "display_data",
          "data": {
            "text/plain": [
              "<Figure size 640x480 with 1 Axes>"
            ],
            "image/png": "[encoded data removed]"
          },
          "metadata": {}
        }
      ]
    },
    {
      "cell_type": "markdown",
      "source": [
        "#2. Ventas por categoria\n"
      ],
      "metadata": {
        "id": "hUYiopqbFGVh"
      }
    },
    {
      "cell_type": "code",
      "source": [
        "#ventas_por_categoria = tienda.groupby('')[''].sum()\n",
        "resumenVentasxCategoria = {}\n",
        "\n",
        "ventas_por_categoria_tienda =  tienda.groupby(\"Categoría del Producto\")[\"Precio\"].sum()\n",
        "ventas_por_categoria_tienda2 = tienda2.groupby(\"Categoría del Producto\")[\"Precio\"].sum()\n",
        "ventas_por_categoria_tienda3 = tienda3.groupby(\"Categoría del Producto\")[\"Precio\"].sum()\n",
        "ventas_por_categoria_tienda4 = tienda4.groupby(\"Categoría del Producto\")[\"Precio\"].sum()\n",
        "\n",
        "#print(ventas_por_categoria_tienda:,.2)\n",
        "#ventas_por_categoria = tienda.groupby('')[''].sum()\n",
        "resumenVentasxCategoria = {}\n",
        "\n",
        "ventas_por_categoria_tienda =  tienda.groupby(\"Categoría del Producto\")[\"Precio\"].sum()\n",
        "ventas_por_categoria_tienda2 = tienda2.groupby(\"Categoría del Producto\")[\"Precio\"].sum()\n",
        "ventas_por_categoria_tienda3 = tienda3.groupby(\"Categoría del Producto\")[\"Precio\"].sum()\n",
        "ventas_por_categoria_tienda4 = tienda4.groupby(\"Categoría del Producto\")[\"Precio\"].sum()\n",
        "\n",
        "print(f\"{ventas_por_categoria_tienda}\")\n",
        "print(f\"{ventas_por_categoria_tienda2}\")\n",
        "print(f\"{ventas_por_categoria_tienda3}\")\n",
        "print(f\"{ventas_por_categoria_tienda4}\")\n",
        "\n",
        "#Creación de la Lista con los DataFrames\n",
        "dfs = [ventas_por_categoria_tienda, ventas_por_categoria_tienda2, ventas_por_categoria_tienda3, ventas_por_categoria_tienda4]\n",
        "resumenVentasxCategoria = pd.concat(dfs, keys=['Tienda', 'Tienda 2', 'Tienda 3', 'Tienda 4'], names = ['Tienda', 'Categoria del Producto'])\n",
        "resumenVentasxCategoria = resumenVentasxCategoria.reset_index()\n",
        "resumenVentasxCategoria = resumenVentasxCategoria.rename(columns={'Precio': 'Ventas'})\n",
        "\n",
        "'''\n",
        "# Grafico de ventas por Tienda x Articulo\n",
        "for tienda in resumenVentasxCategoria['Tienda'].unique():\n",
        "    data_tienda = resumenVentasxCategoria[resumenVentasxCategoria['Tienda'] == tienda]\n",
        "\n",
        "    plt.figure(figsize=(10, 6))  # Adjust figure size as needed\n",
        "    plt.bar(data_tienda['Categoria del Producto'], data_tienda['Ventas'])\n",
        "\n",
        "    plt.title(f'Ventas por Categoría - {tienda}')\n",
        "    plt.xlabel('Categoría del Producto')\n",
        "    plt.ylabel('Ventas')\n",
        "    plt.xticks(rotation=45, ha='right')  # Rotate x-axis labels for better readability\n",
        "    plt.tight_layout()  # Adjust layout to prevent labels from overlapping\n",
        "    plt.show()\n",
        "'''\n",
        "\n",
        "dfs = [ventas_por_categoria_tienda, ventas_por_categoria_tienda2, ventas_por_categoria_tienda3, ventas_por_categoria_tienda4]\n",
        "resumenVentasxCategoria = pd.concat(dfs, keys=['Tienda', 'Tienda 2', 'Tienda 3', 'Tienda 4'], names = ['Tienda', 'Categoria del Producto'])\n",
        "resumenVentasxCategoria = resumenVentasxCategoria.reset_index()\n",
        "resumenVentasxCategoria = resumenVentasxCategoria.rename(columns={'Precio': 'Ventas'})\n",
        "\n",
        "'''\n",
        "# Grafico de ventas por Tienda x Articulo\n",
        "for tienda in resumenVentasxCategoria['Tienda'].unique():\n",
        "    data_tienda = resumenVentasxCategoria[resumenVentasxCategoria['Tienda'] == tienda]\n",
        "\n",
        "    plt.figure(figsize=(10, 6))  # Adjust figure size as needed\n",
        "    plt.bar(data_tienda['Categoria del Producto'], data_tienda['Ventas'])\n",
        "\n",
        "    plt.title(f'Ventas por Categoría - {tienda}')\n",
        "    plt.xlabel('Categoría del Producto')\n",
        "    plt.ylabel('Ventas')\n",
        "    plt.xticks(rotation=45, ha='right')  # Rotate x-axis labels for better readability\n",
        "    plt.tight_layout()  # Adjust layout to prevent labels from overlapping\n",
        "    plt.show()\n",
        "'''\n",
        "\n",
        "\n"
      ],
      "metadata": {
        "id": "I0KkjPoTY88F",
        "colab": {
          "base_uri": "https://localhost:8080/",
          "height": 834
        },
        "outputId": "011aeeed-2761-4a44-f62a-2df93375eb1c"
      },
      "execution_count": 41,
      "outputs": [
        {
          "output_type": "stream",
          "name": "stdout",
          "text": [
            "Categoría del Producto\n",
            "Artículos para el hogar     12698400.0\n",
            "Deportes y diversión        39290000.0\n",
            "Electrodomésticos          363685200.0\n",
            "Electrónicos               429493500.0\n",
            "Instrumentos musicales      91299000.0\n",
            "Juguetes                    17995700.0\n",
            "Libros                       8784900.0\n",
            "Muebles                    187633700.0\n",
            "Name: Precio, dtype: float64\n",
            "Categoría del Producto\n",
            "Artículos para el hogar     14746900.0\n",
            "Deportes y diversión        34744500.0\n",
            "Electrodomésticos          348567800.0\n",
            "Electrónicos               410831100.0\n",
            "Instrumentos musicales     104990300.0\n",
            "Juguetes                    15945400.0\n",
            "Libros                      10091200.0\n",
            "Muebles                    176426300.0\n",
            "Name: Precio, dtype: float64\n",
            "Categoría del Producto\n",
            "Artículos para el hogar     15060000.0\n",
            "Deportes y diversión        35593100.0\n",
            "Electrodomésticos          329237900.0\n",
            "Electrónicos               410775800.0\n",
            "Instrumentos musicales      77380900.0\n",
            "Juguetes                    19401100.0\n",
            "Libros                       9498700.0\n",
            "Muebles                    201072100.0\n",
            "Name: Precio, dtype: float64\n",
            "Categoría del Producto\n",
            "Artículos para el hogar     15074500.0\n",
            "Deportes y diversión        33350100.0\n",
            "Electrodomésticos          283260200.0\n",
            "Electrónicos               409476100.0\n",
            "Instrumentos musicales      75102400.0\n",
            "Juguetes                    20262200.0\n",
            "Libros                       9321300.0\n",
            "Muebles                    192528900.0\n",
            "Name: Precio, dtype: float64\n"
          ]
        },
        {
          "output_type": "execute_result",
          "data": {
            "text/plain": [
              "\"\\n# Grafico de ventas por Tienda x Articulo\\nfor tienda in resumenVentasxCategoria['Tienda'].unique():\\n    data_tienda = resumenVentasxCategoria[resumenVentasxCategoria['Tienda'] == tienda]\\n\\n    plt.figure(figsize=(10, 6))  # Adjust figure size as needed\\n    plt.bar(data_tienda['Categoria del Producto'], data_tienda['Ventas'])\\n\\n    plt.title(f'Ventas por Categoría - {tienda}')\\n    plt.xlabel('Categoría del Producto')\\n    plt.ylabel('Ventas')\\n    plt.xticks(rotation=45, ha='right')  # Rotate x-axis labels for better readability\\n    plt.tight_layout()  # Adjust layout to prevent labels from overlapping\\n    plt.show()\\n\""
            ],
            "application/vnd.google.colaboratory.intrinsic+json": {
              "type": "string"
            }
          },
          "metadata": {},
          "execution_count": 41
        }
      ]
    },
    {
      "cell_type": "markdown",
      "source": [
        "---\n",
        "En todas las tiendas el articulo mas vendidos son los : ***ELECTRONICOS***\n",
        "\n",
        "\n",
        "---\n",
        "\n"
      ],
      "metadata": {
        "id": "xpvHE4Hx8biU"
      }
    },
    {
      "cell_type": "markdown",
      "source": [
        "[texto del vínculo](https://)# 4. Productos más y menos vendidos"
      ],
      "metadata": {
        "id": "DmNp1KPBZCm-"
      }
    },
    {
      "cell_type": "code",
      "source": [],
      "metadata": {
        "id": "qoyjqijQZHfF"
      },
      "execution_count": null,
      "outputs": []
    },
    {
      "cell_type": "code",
      "source": [],
      "metadata": {
        "id": "0Sw3sd4IZIGW"
      },
      "execution_count": null,
      "outputs": []
    },
    {
      "cell_type": "markdown",
      "source": [
        "# 5. Envío promedio por tienda"
      ],
      "metadata": {
        "id": "Fl0cGi3bZKqU"
      }
    },
    {
      "cell_type": "code",
      "source": [],
      "metadata": {
        "id": "S2JeaCykZNy9"
      },
      "execution_count": null,
      "outputs": []
    },
    {
      "cell_type": "code",
      "source": [],
      "metadata": {
        "id": "0tSdCie9ZQlt"
      },
      "execution_count": null,
      "outputs": []
    }
  ]
}